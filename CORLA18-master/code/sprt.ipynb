{
 "cells": [
  {
   "cell_type": "markdown",
   "metadata": {},
   "source": [
    "# Ballot-polling SPRT\n",
    "\n",
    "This notebook explores the ballot-polling SPRT we've developed."
   ]
  },
  {
   "cell_type": "code",
   "execution_count": 1,
   "metadata": {
    "collapsed": false
   },
   "outputs": [
    {
     "name": "stderr",
     "output_type": "stream",
     "text": [
      "/Library/Frameworks/Python.framework/Versions/3.4/lib/python3.4/importlib/_bootstrap.py:321: RuntimeWarning: numpy.dtype size changed, may indicate binary incompatibility. Expected 96, got 88\n",
      "  return f(*args, **kwds)\n",
      "/Library/Frameworks/Python.framework/Versions/3.4/lib/python3.4/importlib/_bootstrap.py:321: RuntimeWarning: numpy.ufunc size changed, may indicate binary incompatibility. Expected 192, got 176\n",
      "  return f(*args, **kwds)\n",
      "/Library/Frameworks/Python.framework/Versions/3.4/lib/python3.4/importlib/_bootstrap.py:321: RuntimeWarning: numpy.dtype size changed, may indicate binary incompatibility. Expected 96, got 88\n",
      "  return f(*args, **kwds)\n",
      "/Library/Frameworks/Python.framework/Versions/3.4/lib/python3.4/importlib/_bootstrap.py:321: RuntimeWarning: numpy.ufunc size changed, may indicate binary incompatibility. Expected 192, got 176\n",
      "  return f(*args, **kwds)\n"
     ]
    }
   ],
   "source": [
    "%matplotlib inline\n",
    "from __future__ import division\n",
    "import math\n",
    "import numpy as np\n",
    "import numpy.random\n",
    "import scipy as sp\n",
    "import scipy.stats\n",
    "import pandas as pd\n",
    "import matplotlib.pyplot as plt\n",
    "import seaborn as sb\n",
    "\n",
    "from sprt import ballot_polling_sprt\n",
    "from hypergeometric import trihypergeometric_optim, simulate_ballot_polling_power"
   ]
  },
  {
   "cell_type": "markdown",
   "metadata": {},
   "source": [
    "The proportion of votes for each candidate in the sample is exactly those in the population, except the population is 50 times larger. The sample of votes is made up of 2000 votes for candidate $w$, 1800 votes for candidate $\\ell$, and 500 invalid votes. \n",
    "\n",
    "Candidate $w$ earned $46.5\\%$ of the votes and candidate $\\ell$ earned $41.9\\%$ of the votes, corresponding to a difference of about $4.6\\%$. We will test the null hypothesis that they received the same proportion of votes overall against the alternative that the reported vote totals are correct.\n",
    "\n",
    "## Trinomial SPRT without replacement\n",
    "\n",
    "First, suppose we don't know the number of invalid ballots. Minimize the LR over possible values."
   ]
  },
  {
   "cell_type": "code",
   "execution_count": 2,
   "metadata": {
    "collapsed": false
   },
   "outputs": [
    {
     "name": "stdout",
     "output_type": "stream",
     "text": [
      "{'upper_threshold': 20.0, 'LR': 215.50870817693178, 'lower_threshold': 0.0, 'Nu_used': 25000, 'sample_proportion': (0.46511627906976744, 0.4186046511627907, 0.11627906976744186), 'decision': 1, 'Nw_used': 95000, 'pvalue': 0.004640183723708297}\n"
     ]
    }
   ],
   "source": [
    "alpha = 0.05\n",
    "sample = [1]*2000 + [0]*1800 + [np.nan]*500\n",
    "popsize = 50*len(sample)\n",
    "res = ballot_polling_sprt(sample, popsize, alpha, Vw=2000*50, Vl=1800*50)\n",
    "print(res)"
   ]
  },
  {
   "cell_type": "markdown",
   "metadata": {},
   "source": [
    "The optimization does the right thing: if we did know that there were $500 \\times 50$ invalid votes in the population, we'd get the same result!"
   ]
  },
  {
   "cell_type": "code",
   "execution_count": 3,
   "metadata": {
    "collapsed": false
   },
   "outputs": [
    {
     "name": "stdout",
     "output_type": "stream",
     "text": [
      "{'upper_threshold': 20.0, 'LR': 215.50870817693178, 'lower_threshold': 0.0, 'Nu_used': 25000, 'sample_proportion': (0.46511627906976744, 0.4186046511627907, 0.11627906976744186), 'decision': 1, 'Nw_used': 95000.0, 'pvalue': 0.004640183723708297}\n"
     ]
    }
   ],
   "source": [
    "res = ballot_polling_sprt(sample, popsize, alpha, Vw=2000*50, Vl=1800*50, number_invalid=500*50)\n",
    "print(res)"
   ]
  },
  {
   "cell_type": "markdown",
   "metadata": {},
   "source": [
    "## What happens when the reported outcome is wrong\n",
    "\n",
    "In 100 replicates, we draw samples of 500 ballots and conduct the SPRT using the reported results as the alternative hypothesis. We never reject the null.\n",
    "\n",
    "We do the same for samples of size 1000.\n",
    "\n",
    "Candidate |  Reported | Actual \n",
    "---|---|---\n",
    "A | 750 | 600\n",
    "B | 150 | 200\n",
    "Ballots | 1,000 | 1,000 \n",
    "Diluted margin | 60% | 40% "
   ]
  },
  {
   "cell_type": "code",
   "execution_count": 2,
   "metadata": {
    "collapsed": false
   },
   "outputs": [
    {
     "name": "stdout",
     "output_type": "stream",
     "text": [
      "Samples of size 50, SPRT rejection rate: 0.0\n",
      "Samples of size 50, fixed n trihypergeometric rejection rate: 0.01\n",
      "Samples of size 100, SPRT rejection rate: 0.0\n",
      "Samples of size 100, fixed n trihypergeometric rejection rate: 0.0\n"
     ]
    }
   ],
   "source": [
    "np.random.seed(8062018)\n",
    "alpha = 0.05\n",
    "population = [1]*600 + [0]*200 + [np.nan]*200\n",
    "popsize = len(population)\n",
    "reps = 100\n",
    "rejects_sprt = 0\n",
    "rejects_trihyper = 0\n",
    "\n",
    "for i in range(reps):\n",
    "    sample = np.random.choice(population, replace=False, size=50)\n",
    "    res = ballot_polling_sprt(sample, popsize, alpha, Vw=750, Vl=150, null_margin=500)\n",
    "    if res['decision']==1:\n",
    "        rejects_sprt += 1\n",
    "    res2 = trihypergeometric_optim(sample, popsize, null_margin=500)\n",
    "    if res2 <= alpha:\n",
    "        rejects_trihyper += 1\n",
    "print(\"Samples of size 50, SPRT rejection rate:\", rejects_sprt/reps)\n",
    "print(\"Samples of size 50, fixed n trihypergeometric rejection rate:\", rejects_trihyper/reps)\n",
    "\n",
    "rejects_sprt = 0\n",
    "rejects_trihyper = 0\n",
    "for i in range(reps):\n",
    "    sample = np.random.choice(population, replace=False, size=100)\n",
    "    res = ballot_polling_sprt(sample, popsize, alpha, Vw=750, Vl=150, null_margin=500)\n",
    "    if res['decision']==1:\n",
    "        rejects_sprt += 1\n",
    "    res2 = trihypergeometric_optim(sample, popsize, null_margin=500)\n",
    "    if res2 <= alpha:\n",
    "        rejects_hyper += 1\n",
    "        \n",
    "print(\"Samples of size 100, SPRT rejection rate:\", rejects_sprt/reps)\n",
    "print(\"Samples of size 100, fixed n trihypergeometric rejection rate:\", rejects_trihyper/reps)"
   ]
  },
  {
   "cell_type": "markdown",
   "metadata": {},
   "source": [
    "# Another example where the reported results are wrong and consistent with the null.\n",
    "The null hypothesis is that $N_w - N_\\ell \\leq 5$: this is true.\n",
    "The alternative is that the reported results are correct: $V_w = 80$ and $V_\\ell = 70$.\n",
    "\n",
    "Candidate |  Reported | Actual \n",
    "---|---|---\n",
    "A | 80 | 80\n",
    "B | 70 | 75\n",
    "Ballots | 165 | 165 \n",
    "Diluted margin | 6% | 3% "
   ]
  },
  {
   "cell_type": "code",
   "execution_count": 3,
   "metadata": {
    "collapsed": false
   },
   "outputs": [
    {
     "name": "stdout",
     "output_type": "stream",
     "text": [
      "n=1000, SPRT rejection rate: 0.0\n",
      "n=1000, fixed n trihypergeometric rejection rate: 0.09\n",
      "n=1000, fixed n trihypergeometric rejection rate with alpha/2: 0.06\n"
     ]
    }
   ],
   "source": [
    "np.random.seed(8062018)\n",
    "alpha = 0.05\n",
    "population = [1]*80 + [0]*70 + [np.nan]*15\n",
    "popsize = len(population)\n",
    "reps = 100\n",
    "rejects_sprt = 0\n",
    "rejects_trihyper = 0\n",
    "rejects_trihyper_red = 0\n",
    "\n",
    "for i in range(reps):\n",
    "\n",
    "    sample = np.random.choice(population, replace=False, size=100)\n",
    "    res = ballot_polling_sprt(sample, popsize, alpha, Vw=80, Vl=70, null_margin=5)\n",
    "    if res['decision']==1:\n",
    "        rejects_sprt += 1\n",
    "    res2 = trihypergeometric_optim(sample, popsize, null_margin=5)\n",
    "    if res2 <= alpha:\n",
    "        rejects_trihyper += 1\n",
    "    if res2 <= alpha/2:\n",
    "        rejects_trihyper_red += 1\n",
    "\n",
    "print(\"n=1000, SPRT rejection rate:\", rejects_sprt/reps)\n",
    "print(\"n=1000, fixed n trihypergeometric rejection rate:\", rejects_trihyper/reps)\n",
    "print(\"n=1000, fixed n trihypergeometric rejection rate with alpha/2:\", rejects_trihyper_red/reps)"
   ]
  },
  {
   "cell_type": "markdown",
   "metadata": {},
   "source": [
    "# The reported results are wrong and inconsistent with the null.\n",
    "\n",
    "The null hypothesis is that $N_w - N_\\ell \\leq 200$: this is false.\n",
    "The alternative is that the reported results are correct: $V_w = 8,500$ and $V_\\ell = 7,000$.\n",
    "The truth is somewhere in the middle, with $N_w - N_\\ell = 1,000$.\n",
    "\n",
    "Power is not great. $n=800$ is nearly half the population.\n",
    "\n",
    "Candidate |  Reported | Actual \n",
    "---|---|---\n",
    "A | 8,500 | 8,000\n",
    "B | 7,000 | 7,000\n",
    "Ballots | 16,500 | 16,500 \n",
    "Diluted margin | 9% | 6% "
   ]
  },
  {
   "cell_type": "code",
   "execution_count": 6,
   "metadata": {
    "collapsed": false
   },
   "outputs": [
    {
     "name": "stdout",
     "output_type": "stream",
     "text": [
      "n=1000, SPRT rejection rate: 0.02\n",
      "n=1000, median p-value: 1.0\n",
      "n=2000, SPRT rejection rate: 0.0\n",
      "n=2000, median p-value: 1.0\n",
      "n=3000, SPRT rejection rate: 0.0\n",
      "n=3000, median p-value: 1.0\n"
     ]
    }
   ],
   "source": [
    "np.random.seed(8062018)\n",
    "alpha = 0.05\n",
    "population = [1]*8000 + [0]*7000 + [np.nan]*1500\n",
    "popsize = len(population)\n",
    "reps = 100\n",
    "\n",
    "rejects_sprt = 0\n",
    "sprt_pvalues = []\n",
    "for i in range(reps):\n",
    "    sample = np.random.choice(population, replace=False, size=1000)\n",
    "    res = ballot_polling_sprt(sample, popsize, alpha, Vw=8500, Vl=7000, null_margin=200)\n",
    "    if res['decision']==1:\n",
    "        rejects_sprt += 1\n",
    "    sprt_pvalues.append(res['pvalue'])\n",
    "print(\"n=1000, SPRT rejection rate:\", rejects_sprt/reps)\n",
    "print(\"n=1000, median p-value:\", np.median(sprt_pvalues))\n",
    "      \n",
    "rejects_sprt = 0\n",
    "sprt_pvalues = []\n",
    "for i in range(reps):\n",
    "    sample = np.random.choice(population, replace=False, size=2000)\n",
    "    res = ballot_polling_sprt(sample, popsize, alpha, Vw=8500, Vl=7000, null_margin=200)\n",
    "    if res['decision']==1:\n",
    "        rejects_sprt += 1\n",
    "    sprt_pvalues.append(res['pvalue'])\n",
    "print(\"n=2000, SPRT rejection rate:\", rejects_sprt/reps)\n",
    "print(\"n=2000, median p-value:\", np.median(sprt_pvalues))\n",
    "\n",
    "rejects_sprt = 0\n",
    "sprt_pvalues = []\n",
    "for i in range(reps):\n",
    "    sample = np.random.choice(population, replace=False, size=3000)\n",
    "    res = ballot_polling_sprt(sample, popsize, alpha, Vw=8500, Vl=7000, null_margin=200)\n",
    "    if res['decision']==1:\n",
    "        rejects_sprt += 1\n",
    "    sprt_pvalues.append(res['pvalue'])\n",
    "print(\"n=3000, SPRT rejection rate:\", rejects_sprt/reps)\n",
    "print(\"n=3000, median p-value:\", np.median(sprt_pvalues))"
   ]
  },
  {
   "cell_type": "markdown",
   "metadata": {},
   "source": [
    "# The reported results are correct and inconsistent with the null.\n",
    "\n",
    "The null hypothesis is that $N_w - N_\\ell \\leq 200$: this is false.\n",
    "The alternative is that the reported results are correct: $V_w = 8,500$ and $V_\\ell = 7,000$.\n",
    "Power is improved.\n",
    "\n",
    "Candidate |  Reported | Actual \n",
    "---|---|---\n",
    "A | 8,500 | 8,500\n",
    "B | 7,000 | 7,000\n",
    "Ballots | 16,500 | 16,500 \n",
    "Diluted margin | 9% | 6% "
   ]
  },
  {
   "cell_type": "code",
   "execution_count": 8,
   "metadata": {
    "collapsed": false
   },
   "outputs": [
    {
     "name": "stdout",
     "output_type": "stream",
     "text": [
      "n=500, SPRT rejection rate: 0.21\n",
      "n=500, median p-value: 0.2468664086327809\n",
      "n=1000, SPRT rejection rate: 0.59\n",
      "n=1000, median p-value: 0.031043896965993405\n"
     ]
    }
   ],
   "source": [
    "np.random.seed(8062018)\n",
    "alpha = 0.05\n",
    "population = [1]*8500 + [0]*7000 + [np.nan]*1000\n",
    "popsize = len(population)\n",
    "reps = 100\n",
    "\n",
    "rejects_sprt = 0\n",
    "sprt_pvalues = []\n",
    "for i in range(reps):\n",
    "    sample = np.random.choice(population, replace=False, size=500)\n",
    "    res = ballot_polling_sprt(sample, popsize, alpha, Vw=8500, Vl=7000, null_margin=200)\n",
    "    if res['decision']==1:\n",
    "        rejects_sprt += 1\n",
    "    sprt_pvalues.append(res['pvalue'])\n",
    "print(\"n=500, SPRT rejection rate:\", rejects_sprt/reps)\n",
    "print(\"n=500, median p-value:\", np.median(sprt_pvalues))\n",
    "\n",
    "rejects_sprt = 0\n",
    "sprt_pvalues = []\n",
    "for i in range(reps):\n",
    "    sample = np.random.choice(population, replace=False, size=1000)\n",
    "    res = ballot_polling_sprt(sample, popsize, alpha, Vw=8500, Vl=7000, null_margin=200)\n",
    "    if res['decision']==1:\n",
    "        rejects_sprt += 1\n",
    "    sprt_pvalues.append(res['pvalue'])\n",
    "print(\"n=1000, SPRT rejection rate:\", rejects_sprt/reps)\n",
    "print(\"n=1000, median p-value:\", np.median(sprt_pvalues))"
   ]
  }
 ],
 "metadata": {
  "kernelspec": {
   "display_name": "Python 3",
   "language": "python",
   "name": "python3"
  },
  "language_info": {
   "codemirror_mode": {
    "name": "ipython",
    "version": 3
   },
   "file_extension": ".py",
   "mimetype": "text/x-python",
   "name": "python",
   "nbconvert_exporter": "python",
   "pygments_lexer": "ipython3",
   "version": "3.4.3"
  }
 },
 "nbformat": 4,
 "nbformat_minor": 2
}
